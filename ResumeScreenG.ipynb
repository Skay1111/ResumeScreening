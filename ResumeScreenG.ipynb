{
  "nbformat": 4,
  "nbformat_minor": 0,
  "metadata": {
    "colab": {
      "provenance": []
    },
    "kernelspec": {
      "name": "python3",
      "display_name": "Python 3"
    },
    "language_info": {
      "name": "python"
    }
  },
  "cells": [
    {
      "cell_type": "code",
      "execution_count": null,
      "metadata": {
        "id": "P5uLxS1jTScK"
      },
      "outputs": [],
      "source": [
        "import re\n",
        "import string\n",
        "from nltk.corpus import stopwords\n",
        "from nltk.tokenize import word_tokenize\n",
        "import nltk\n",
        "from PyPDF2 import PdfReader\n",
        "from docx import Document\n",
        "\n",
        "nltk.download('punkt')\n",
        "nltk.download('stopwords')\n",
        "nltk.download('punkt_tab')\n",
        "\n",
        "def extract_text_from_file(file_path):\n",
        "    if file_path.endswith('.pdf'):\n",
        "        reader = PdfReader(file_path)\n",
        "        text = \" \".join([page.extract_text() for page in reader.pages])\n",
        "    elif file_path.endswith('.docx'):\n",
        "        doc = Document(file_path)\n",
        "        text = \" \".join([para.text for para in doc.paragraphs])\n",
        "    else:\n",
        "        raise ValueError(\"Unsupported file format. Please upload a PDF or DOCX file.\")\n",
        "    return text\n",
        "\n",
        "def preprocess_text(text):\n",
        "    text = text.lower()\n",
        "    text = re.sub(f\"[{string.punctuation}]\", \"\", text)\n",
        "    tokens = word_tokenize(text)\n",
        "    stop_words = set(stopwords.words('english'))\n",
        "    tokens = [word for word in tokens if word not in stop_words and word.isalpha()]\n",
        "    return set(tokens)\n",
        "\n",
        "file_path = input(\"Enter the path to your resume file (PDF or DOCX): \")\n",
        "resume_text = extract_text_from_file(file_path)\n",
        "clean_resume_tokens = preprocess_text(resume_text)\n",
        "job_description = input(\"Enter the job description: \")\n",
        "clean_job_tokens = preprocess_text(job_description)\n",
        "matched_words = clean_job_tokens.intersection(clean_resume_tokens)\n",
        "match_score = (len(matched_words) / len(clean_job_tokens)) * 100 if clean_job_tokens else 0\n",
        "print(\"Matched Keywords:\")\n",
        "for word in matched_words:\n",
        "    print(word)\n",
        "\n",
        "print(f\"\\nResume Match Score with Job Description: {match_score:.2f}%\")"
      ]
    }
  ]
}